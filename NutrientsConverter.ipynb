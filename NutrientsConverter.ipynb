{
 "cells": [
  {
   "cell_type": "code",
   "execution_count": 1,
   "metadata": {},
   "outputs": [],
   "source": [
    "import pandas as pd\n",
    "\n",
    "import ast"
   ]
  },
  {
   "cell_type": "code",
   "execution_count": 3,
   "metadata": {},
   "outputs": [
    {
     "output_type": "execute_result",
     "data": {
      "text/plain": "     Restaurant                                          Food_Name  \\\n0  Panera Bread                   Caesar Salad with Chicken, Whole   \n1  Panera Bread  Mediterranean Veggie Sandwich on Tomato Basil,...   \n2  Panera Bread  Napa Almond Chicken Salad Sandwich on Country ...   \n3  Panera Bread               Fuji Apple Salad with Chicken, Whole   \n4  Panera Bread              Modern Greek Salad with Quinoa, Whole   \n\n                                           Nutrients  Calories  \n0  [{'value': 35, 'attr_id': 203}, {'value': 27, ...       450  \n1  [{'value': 18, 'attr_id': 203}, {'value': 13, ...       440  \n2  [{'value': 28, 'attr_id': 203}, {'value': 32, ...       630  \n3  [{'value': 33, 'attr_id': 203}, {'value': 35, ...       570  \n4  [{'value': 12, 'attr_id': 203}, {'value': 43, ...       530  ",
      "text/html": "<div>\n<style scoped>\n    .dataframe tbody tr th:only-of-type {\n        vertical-align: middle;\n    }\n\n    .dataframe tbody tr th {\n        vertical-align: top;\n    }\n\n    .dataframe thead th {\n        text-align: right;\n    }\n</style>\n<table border=\"1\" class=\"dataframe\">\n  <thead>\n    <tr style=\"text-align: right;\">\n      <th></th>\n      <th>Restaurant</th>\n      <th>Food_Name</th>\n      <th>Nutrients</th>\n      <th>Calories</th>\n    </tr>\n  </thead>\n  <tbody>\n    <tr>\n      <th>0</th>\n      <td>Panera Bread</td>\n      <td>Caesar Salad with Chicken, Whole</td>\n      <td>[{'value': 35, 'attr_id': 203}, {'value': 27, ...</td>\n      <td>450</td>\n    </tr>\n    <tr>\n      <th>1</th>\n      <td>Panera Bread</td>\n      <td>Mediterranean Veggie Sandwich on Tomato Basil,...</td>\n      <td>[{'value': 18, 'attr_id': 203}, {'value': 13, ...</td>\n      <td>440</td>\n    </tr>\n    <tr>\n      <th>2</th>\n      <td>Panera Bread</td>\n      <td>Napa Almond Chicken Salad Sandwich on Country ...</td>\n      <td>[{'value': 28, 'attr_id': 203}, {'value': 32, ...</td>\n      <td>630</td>\n    </tr>\n    <tr>\n      <th>3</th>\n      <td>Panera Bread</td>\n      <td>Fuji Apple Salad with Chicken, Whole</td>\n      <td>[{'value': 33, 'attr_id': 203}, {'value': 35, ...</td>\n      <td>570</td>\n    </tr>\n    <tr>\n      <th>4</th>\n      <td>Panera Bread</td>\n      <td>Modern Greek Salad with Quinoa, Whole</td>\n      <td>[{'value': 12, 'attr_id': 203}, {'value': 43, ...</td>\n      <td>530</td>\n    </tr>\n  </tbody>\n</table>\n</div>"
     },
     "metadata": {},
     "execution_count": 3
    }
   ],
   "source": [
    "foodRaw_df = pd.read_csv('../../Resources/CSVs/all_menu_items.csv')\n",
    "\n",
    "foodRaw_df.head()"
   ]
  },
  {
   "cell_type": "code",
   "execution_count": 3,
   "metadata": {},
   "outputs": [
    {
     "output_type": "execute_result",
     "data": {
      "text/plain": "         2018 NFP    usda_tag                         name  unit notes  \\\nattr_id                                                                  \n203           1.0      PROCNT                      Protein     g   NaN   \n204           1.0         FAT            Total lipid (fat)     g   NaN   \n205           1.0      CHOCDF  Carbohydrate, by difference     g   NaN   \n207           0.0         ASH                          Ash     g   NaN   \n208           1.0  ENERC_KCAL                       Energy  kcal   NaN   \n\n                bulk_csv_field cxh_attribute_name Unnamed: 8  \nattr_id                                                       \n203                 nf_protein               PRO-        NaN  \n204               nf_total_fat                FAT        NaN  \n205      nf_total_carbohydrate               CHO-        NaN  \n207                        NaN                NaN        NaN  \n208                nf_calories              ENER-        NaN  ",
      "text/html": "<div>\n<style scoped>\n    .dataframe tbody tr th:only-of-type {\n        vertical-align: middle;\n    }\n\n    .dataframe tbody tr th {\n        vertical-align: top;\n    }\n\n    .dataframe thead th {\n        text-align: right;\n    }\n</style>\n<table border=\"1\" class=\"dataframe\">\n  <thead>\n    <tr style=\"text-align: right;\">\n      <th></th>\n      <th>2018 NFP</th>\n      <th>usda_tag</th>\n      <th>name</th>\n      <th>unit</th>\n      <th>notes</th>\n      <th>bulk_csv_field</th>\n      <th>cxh_attribute_name</th>\n      <th>Unnamed: 8</th>\n    </tr>\n    <tr>\n      <th>attr_id</th>\n      <th></th>\n      <th></th>\n      <th></th>\n      <th></th>\n      <th></th>\n      <th></th>\n      <th></th>\n      <th></th>\n    </tr>\n  </thead>\n  <tbody>\n    <tr>\n      <th>203</th>\n      <td>1.0</td>\n      <td>PROCNT</td>\n      <td>Protein</td>\n      <td>g</td>\n      <td>NaN</td>\n      <td>nf_protein</td>\n      <td>PRO-</td>\n      <td>NaN</td>\n    </tr>\n    <tr>\n      <th>204</th>\n      <td>1.0</td>\n      <td>FAT</td>\n      <td>Total lipid (fat)</td>\n      <td>g</td>\n      <td>NaN</td>\n      <td>nf_total_fat</td>\n      <td>FAT</td>\n      <td>NaN</td>\n    </tr>\n    <tr>\n      <th>205</th>\n      <td>1.0</td>\n      <td>CHOCDF</td>\n      <td>Carbohydrate, by difference</td>\n      <td>g</td>\n      <td>NaN</td>\n      <td>nf_total_carbohydrate</td>\n      <td>CHO-</td>\n      <td>NaN</td>\n    </tr>\n    <tr>\n      <th>207</th>\n      <td>0.0</td>\n      <td>ASH</td>\n      <td>Ash</td>\n      <td>g</td>\n      <td>NaN</td>\n      <td>NaN</td>\n      <td>NaN</td>\n      <td>NaN</td>\n    </tr>\n    <tr>\n      <th>208</th>\n      <td>1.0</td>\n      <td>ENERC_KCAL</td>\n      <td>Energy</td>\n      <td>kcal</td>\n      <td>NaN</td>\n      <td>nf_calories</td>\n      <td>ENER-</td>\n      <td>NaN</td>\n    </tr>\n  </tbody>\n</table>\n</div>"
     },
     "metadata": {},
     "execution_count": 3
    }
   ],
   "source": [
    "nutrient_map = pd.read_csv('../../Resources/CSVs/Nutritionix API v2 - Full Nutrient USDA Field Mapping.csv')\n",
    "\n",
    "nutrient_map = nutrient_map.set_index('attr_id')\n",
    "\n",
    "nutrient_map.head()"
   ]
  },
  {
   "cell_type": "code",
   "execution_count": 4,
   "metadata": {},
   "outputs": [
    {
     "output_type": "execute_result",
     "data": {
      "text/plain": "     Restaurant                                          Food_Name  \\\n0  Panera Bread                   Caesar Salad with Chicken, Whole   \n1  Panera Bread  Mediterranean Veggie Sandwich on Tomato Basil,...   \n2  Panera Bread  Napa Almond Chicken Salad Sandwich on Country ...   \n3  Panera Bread               Fuji Apple Salad with Chicken, Whole   \n4  Panera Bread              Modern Greek Salad with Quinoa, Whole   \n\n                                           Nutrients  Calories  Protein  \\\n0  [{'value': 35, 'attr_id': 203}, {'value': 27, ...       450      140   \n1  [{'value': 18, 'attr_id': 203}, {'value': 13, ...       440       72   \n2  [{'value': 28, 'attr_id': 203}, {'value': 32, ...       630      112   \n3  [{'value': 33, 'attr_id': 203}, {'value': 35, ...       570      132   \n4  [{'value': 12, 'attr_id': 203}, {'value': 43, ...       530       48   \n\n   Total lipid (fat)  Carbohydrate, by difference  Energy  Sugars, total  \\\n0              243.0                           68     450              8   \n1              117.0                          268     440             32   \n2              288.0                          240     630             48   \n3              315.0                          144     570             80   \n4              387.0                          108     530             16   \n\n   Fiber, total dietary  Sodium, Na  Cholesterol  Fatty acids, total trans  \\\n0                     2         770          120                         0   \n1                     6        1230           10                         0   \n2                     5         680           70                         0   \n3                     6         590           95                         0   \n4                     7         870           15                         0   \n\n   Fatty acids, total saturated  Calcium, Ca  Iron, Fe  Vitamin A, IU  \\\n0                          63.0            0       0.0            0.0   \n1                          27.0            0       0.0            0.0   \n2                          40.5            0       0.0            0.0   \n3                          63.0            0       0.0            0.0   \n4                          63.0            0       0.0            0.0   \n\n   Vitamin C, total ascorbic acid  \n0                               0  \n1                               0  \n2                               0  \n3                               0  \n4                               0  ",
      "text/html": "<div>\n<style scoped>\n    .dataframe tbody tr th:only-of-type {\n        vertical-align: middle;\n    }\n\n    .dataframe tbody tr th {\n        vertical-align: top;\n    }\n\n    .dataframe thead th {\n        text-align: right;\n    }\n</style>\n<table border=\"1\" class=\"dataframe\">\n  <thead>\n    <tr style=\"text-align: right;\">\n      <th></th>\n      <th>Restaurant</th>\n      <th>Food_Name</th>\n      <th>Nutrients</th>\n      <th>Calories</th>\n      <th>Protein</th>\n      <th>Total lipid (fat)</th>\n      <th>Carbohydrate, by difference</th>\n      <th>Energy</th>\n      <th>Sugars, total</th>\n      <th>Fiber, total dietary</th>\n      <th>Sodium, Na</th>\n      <th>Cholesterol</th>\n      <th>Fatty acids, total trans</th>\n      <th>Fatty acids, total saturated</th>\n      <th>Calcium, Ca</th>\n      <th>Iron, Fe</th>\n      <th>Vitamin A, IU</th>\n      <th>Vitamin C, total ascorbic acid</th>\n    </tr>\n  </thead>\n  <tbody>\n    <tr>\n      <th>0</th>\n      <td>Panera Bread</td>\n      <td>Caesar Salad with Chicken, Whole</td>\n      <td>[{'value': 35, 'attr_id': 203}, {'value': 27, ...</td>\n      <td>450</td>\n      <td>140</td>\n      <td>243.0</td>\n      <td>68</td>\n      <td>450</td>\n      <td>8</td>\n      <td>2</td>\n      <td>770</td>\n      <td>120</td>\n      <td>0</td>\n      <td>63.0</td>\n      <td>0</td>\n      <td>0.0</td>\n      <td>0.0</td>\n      <td>0</td>\n    </tr>\n    <tr>\n      <th>1</th>\n      <td>Panera Bread</td>\n      <td>Mediterranean Veggie Sandwich on Tomato Basil,...</td>\n      <td>[{'value': 18, 'attr_id': 203}, {'value': 13, ...</td>\n      <td>440</td>\n      <td>72</td>\n      <td>117.0</td>\n      <td>268</td>\n      <td>440</td>\n      <td>32</td>\n      <td>6</td>\n      <td>1230</td>\n      <td>10</td>\n      <td>0</td>\n      <td>27.0</td>\n      <td>0</td>\n      <td>0.0</td>\n      <td>0.0</td>\n      <td>0</td>\n    </tr>\n    <tr>\n      <th>2</th>\n      <td>Panera Bread</td>\n      <td>Napa Almond Chicken Salad Sandwich on Country ...</td>\n      <td>[{'value': 28, 'attr_id': 203}, {'value': 32, ...</td>\n      <td>630</td>\n      <td>112</td>\n      <td>288.0</td>\n      <td>240</td>\n      <td>630</td>\n      <td>48</td>\n      <td>5</td>\n      <td>680</td>\n      <td>70</td>\n      <td>0</td>\n      <td>40.5</td>\n      <td>0</td>\n      <td>0.0</td>\n      <td>0.0</td>\n      <td>0</td>\n    </tr>\n    <tr>\n      <th>3</th>\n      <td>Panera Bread</td>\n      <td>Fuji Apple Salad with Chicken, Whole</td>\n      <td>[{'value': 33, 'attr_id': 203}, {'value': 35, ...</td>\n      <td>570</td>\n      <td>132</td>\n      <td>315.0</td>\n      <td>144</td>\n      <td>570</td>\n      <td>80</td>\n      <td>6</td>\n      <td>590</td>\n      <td>95</td>\n      <td>0</td>\n      <td>63.0</td>\n      <td>0</td>\n      <td>0.0</td>\n      <td>0.0</td>\n      <td>0</td>\n    </tr>\n    <tr>\n      <th>4</th>\n      <td>Panera Bread</td>\n      <td>Modern Greek Salad with Quinoa, Whole</td>\n      <td>[{'value': 12, 'attr_id': 203}, {'value': 43, ...</td>\n      <td>530</td>\n      <td>48</td>\n      <td>387.0</td>\n      <td>108</td>\n      <td>530</td>\n      <td>16</td>\n      <td>7</td>\n      <td>870</td>\n      <td>15</td>\n      <td>0</td>\n      <td>63.0</td>\n      <td>0</td>\n      <td>0.0</td>\n      <td>0.0</td>\n      <td>0</td>\n    </tr>\n  </tbody>\n</table>\n</div>"
     },
     "metadata": {},
     "execution_count": 4
    }
   ],
   "source": [
    "\n",
    "#For Loop to iterate through the API raw data.\n",
    "for index,row in foodRaw_df.iterrows(): \n",
    "    \n",
    "    nutrients = ast.literal_eval(row['Nutrients']) #The original column of Nutrients looked like a list of dictionaries but in reality,  was a string. \n",
    "    #ast.literal_eval -->interprets \"strings, bytes, numbers, tuples, lists, dicts, sets, booleans, and None.\" and returns it in the right format --> anything else is an error.\n",
    "    \n",
    "    #Nested For Loop to convert each of the nutrients for each menu item.\n",
    "    for nutrient in nutrients: \n",
    "        \n",
    "        #locates the name of the attr_id in the nutrient_map csv. \n",
    "        name = nutrient_map.loc[nutrient['attr_id'],'name'] \n",
    "\n",
    "        #Unit Conversion.\n",
    "        conversion_dict = { \n",
    "            'Protein' : 4, #To cal\n",
    "            'Carbohydrate, by difference' : 4, #to cal\n",
    "            'Total lipid (fat)' : 9, #to cal\n",
    "            'Vitamin A, IU' : 0.3, #to mcg RAE\n",
    "            'Fatty acids, total trans' : 10, #to cal\n",
    "            'Fatty acids, total saturated' : 9, #to cal\n",
    "            'Sugars, total' : 4} #to cal.\n",
    "        \n",
    "        #Dictionary to apply unit conversion factor.\n",
    "        if name in conversion_dict.keys():\n",
    "            conversionFactor = conversion_dict[name]\n",
    "        else:\n",
    "            conversionFactor = 1\n",
    "        \n",
    "        value = nutrient['value'] \n",
    "        \n",
    "       #If nurtient is in the columns.\n",
    "        if name in foodRaw_df.columns:\n",
    "\n",
    "            #Apply conversion Factor.\n",
    "            foodRaw_df.loc[index,name] = value * conversionFactor \n",
    "        \n",
    "        #If nutrient is not in the columns.\n",
    "        else: \n",
    "            foodRaw_df[name] ='' #Create empty column.\n",
    "            foodRaw_df.loc[index,name] = value * conversionFactor #Apply conversion factor.\n",
    "        \n",
    "food_df = foodRaw_df.replace(r\"^\\s*$\", 0, regex = True) #Finds and replace empty cells with 0. empty cell pattern = r\"^\\s*$\"\n",
    "\n",
    "food_df.head()"
   ]
  },
  {
   "cell_type": "code",
   "execution_count": 5,
   "metadata": {},
   "outputs": [
    {
     "output_type": "execute_result",
     "data": {
      "text/plain": "     Restaurant                                          Food_Name  Calories  \\\n0  Panera Bread                   Caesar Salad with Chicken, Whole       450   \n1  Panera Bread  Mediterranean Veggie Sandwich on Tomato Basil,...       440   \n2  Panera Bread  Napa Almond Chicken Salad Sandwich on Country ...       630   \n3  Panera Bread               Fuji Apple Salad with Chicken, Whole       570   \n4  Panera Bread              Modern Greek Salad with Quinoa, Whole       530   \n\n   Protein (Cal)  Carbohydrate (Cal)  Fiber (gr)  Total Sugar (Cal)  \\\n0            140                  68           2                  8   \n1             72                 268           6                 32   \n2            112                 240           5                 48   \n3            132                 144           6                 80   \n4             48                 108           7                 16   \n\n   Total Fat (Cal)  Total Trans Fat (Cal)  Total Saturated Fat (Cal)  \\\n0            243.0                      0                       63.0   \n1            117.0                      0                       27.0   \n2            288.0                      0                       40.5   \n3            315.0                      0                       63.0   \n4            387.0                      0                       63.0   \n\n   Cholesterol (mg)  Calcium (mg)  Iron (mg)  Sodium (mg)  \\\n0               120             0        0.0          770   \n1                10             0        0.0         1230   \n2                70             0        0.0          680   \n3                95             0        0.0          590   \n4                15             0        0.0          870   \n\n   Vitamin A (mcg RAE)  Vitamin C (mg)  \n0                  0.0               0  \n1                  0.0               0  \n2                  0.0               0  \n3                  0.0               0  \n4                  0.0               0  ",
      "text/html": "<div>\n<style scoped>\n    .dataframe tbody tr th:only-of-type {\n        vertical-align: middle;\n    }\n\n    .dataframe tbody tr th {\n        vertical-align: top;\n    }\n\n    .dataframe thead th {\n        text-align: right;\n    }\n</style>\n<table border=\"1\" class=\"dataframe\">\n  <thead>\n    <tr style=\"text-align: right;\">\n      <th></th>\n      <th>Restaurant</th>\n      <th>Food_Name</th>\n      <th>Calories</th>\n      <th>Protein (Cal)</th>\n      <th>Carbohydrate (Cal)</th>\n      <th>Fiber (gr)</th>\n      <th>Total Sugar (Cal)</th>\n      <th>Total Fat (Cal)</th>\n      <th>Total Trans Fat (Cal)</th>\n      <th>Total Saturated Fat (Cal)</th>\n      <th>Cholesterol (mg)</th>\n      <th>Calcium (mg)</th>\n      <th>Iron (mg)</th>\n      <th>Sodium (mg)</th>\n      <th>Vitamin A (mcg RAE)</th>\n      <th>Vitamin C (mg)</th>\n    </tr>\n  </thead>\n  <tbody>\n    <tr>\n      <th>0</th>\n      <td>Panera Bread</td>\n      <td>Caesar Salad with Chicken, Whole</td>\n      <td>450</td>\n      <td>140</td>\n      <td>68</td>\n      <td>2</td>\n      <td>8</td>\n      <td>243.0</td>\n      <td>0</td>\n      <td>63.0</td>\n      <td>120</td>\n      <td>0</td>\n      <td>0.0</td>\n      <td>770</td>\n      <td>0.0</td>\n      <td>0</td>\n    </tr>\n    <tr>\n      <th>1</th>\n      <td>Panera Bread</td>\n      <td>Mediterranean Veggie Sandwich on Tomato Basil,...</td>\n      <td>440</td>\n      <td>72</td>\n      <td>268</td>\n      <td>6</td>\n      <td>32</td>\n      <td>117.0</td>\n      <td>0</td>\n      <td>27.0</td>\n      <td>10</td>\n      <td>0</td>\n      <td>0.0</td>\n      <td>1230</td>\n      <td>0.0</td>\n      <td>0</td>\n    </tr>\n    <tr>\n      <th>2</th>\n      <td>Panera Bread</td>\n      <td>Napa Almond Chicken Salad Sandwich on Country ...</td>\n      <td>630</td>\n      <td>112</td>\n      <td>240</td>\n      <td>5</td>\n      <td>48</td>\n      <td>288.0</td>\n      <td>0</td>\n      <td>40.5</td>\n      <td>70</td>\n      <td>0</td>\n      <td>0.0</td>\n      <td>680</td>\n      <td>0.0</td>\n      <td>0</td>\n    </tr>\n    <tr>\n      <th>3</th>\n      <td>Panera Bread</td>\n      <td>Fuji Apple Salad with Chicken, Whole</td>\n      <td>570</td>\n      <td>132</td>\n      <td>144</td>\n      <td>6</td>\n      <td>80</td>\n      <td>315.0</td>\n      <td>0</td>\n      <td>63.0</td>\n      <td>95</td>\n      <td>0</td>\n      <td>0.0</td>\n      <td>590</td>\n      <td>0.0</td>\n      <td>0</td>\n    </tr>\n    <tr>\n      <th>4</th>\n      <td>Panera Bread</td>\n      <td>Modern Greek Salad with Quinoa, Whole</td>\n      <td>530</td>\n      <td>48</td>\n      <td>108</td>\n      <td>7</td>\n      <td>16</td>\n      <td>387.0</td>\n      <td>0</td>\n      <td>63.0</td>\n      <td>15</td>\n      <td>0</td>\n      <td>0.0</td>\n      <td>870</td>\n      <td>0.0</td>\n      <td>0</td>\n    </tr>\n  </tbody>\n</table>\n</div>"
     },
     "metadata": {},
     "execution_count": 5
    }
   ],
   "source": [
    "#Organizes the order of the columns. \n",
    "\n",
    "foodFiltered_df = food_df[['Restaurant',\n",
    "                           'Food_Name',\n",
    "                           'Calories',\n",
    "                           'Protein',\n",
    "                           'Carbohydrate, by difference',\n",
    "                           'Fiber, total dietary',\n",
    "                           'Sugars, total',\n",
    "                           'Total lipid (fat)',\n",
    "                           'Fatty acids, total trans',\n",
    "                           'Fatty acids, total saturated',\n",
    "                           'Cholesterol',\n",
    "                           'Calcium, Ca',\n",
    "                           'Iron, Fe',\n",
    "                           'Sodium, Na',\n",
    "                           'Vitamin A, IU',\n",
    "                          'Vitamin C, total ascorbic acid']]\n",
    "\n",
    "#Parameters to rename.\n",
    "columns_name = {\n",
    "    'Protein' : 'Protein (Cal)',\n",
    "    'Carbohydrate, by difference' : 'Carbohydrate (Cal)',\n",
    "    'Fiber, total dietary' : 'Fiber (gr)',\n",
    "    'Sugars, total' : 'Total Sugar (Cal)',\n",
    "    'Total lipid (fat)' : 'Total Fat (Cal)',\n",
    "    'Cholesterol' : 'Cholesterol (mg)',\n",
    "    'Calcium, Ca' : 'Calcium (mg)',\n",
    "    'Iron, Fe' : 'Iron (mg)',\n",
    "    'Sodium, Na' : 'Sodium (mg)',\n",
    "    'Vitamin A, IU' : 'Vitamin A (mcg RAE)',\n",
    "    'Vitamin C, total ascorbic acid' : 'Vitamin C (mg)',\n",
    "    'Fatty acids, total trans' : 'Total Trans Fat (Cal)',\n",
    "    'Fatty acids, total saturated' : 'Total Saturated Fat (Cal)'\n",
    "    \n",
    "}\n",
    "\n",
    "foodFiltered_df = foodFiltered_df.rename(columns = columns_name)\n",
    "\n",
    "foodFiltered_df.head()\n"
   ]
  },
  {
   "cell_type": "code",
   "execution_count": 6,
   "metadata": {},
   "outputs": [
    {
     "output_type": "execute_result",
     "data": {
      "text/plain": "   AGE  Sedentary  Moderately active  Active\n0   14       2000               2400    2800\n1   15       2200               2600    3000\n2   16       2400               2800    3200\n3   17       2400               2800    3200\n4   18       2400               2800    3200",
      "text/html": "<div>\n<style scoped>\n    .dataframe tbody tr th:only-of-type {\n        vertical-align: middle;\n    }\n\n    .dataframe tbody tr th {\n        vertical-align: top;\n    }\n\n    .dataframe thead th {\n        text-align: right;\n    }\n</style>\n<table border=\"1\" class=\"dataframe\">\n  <thead>\n    <tr style=\"text-align: right;\">\n      <th></th>\n      <th>AGE</th>\n      <th>Sedentary</th>\n      <th>Moderately active</th>\n      <th>Active</th>\n    </tr>\n  </thead>\n  <tbody>\n    <tr>\n      <th>0</th>\n      <td>14</td>\n      <td>2000</td>\n      <td>2400</td>\n      <td>2800</td>\n    </tr>\n    <tr>\n      <th>1</th>\n      <td>15</td>\n      <td>2200</td>\n      <td>2600</td>\n      <td>3000</td>\n    </tr>\n    <tr>\n      <th>2</th>\n      <td>16</td>\n      <td>2400</td>\n      <td>2800</td>\n      <td>3200</td>\n    </tr>\n    <tr>\n      <th>3</th>\n      <td>17</td>\n      <td>2400</td>\n      <td>2800</td>\n      <td>3200</td>\n    </tr>\n    <tr>\n      <th>4</th>\n      <td>18</td>\n      <td>2400</td>\n      <td>2800</td>\n      <td>3200</td>\n    </tr>\n  </tbody>\n</table>\n</div>"
     },
     "metadata": {},
     "execution_count": 6
    }
   ],
   "source": [
    "#Calorie intake per gender, life style and age.\n",
    "\n",
    "calorieNeeds_male = pd.read_excel('../../FDA Tables XLSX/Appendix 2. Estimated Calorie Needs -2020 Dietary Guidelines _ health.gov_0002.xlsx', sheet_name = 'Males')\n",
    "\n",
    "#Removes ages less than 14.\n",
    "calorieNeeds_male = calorieNeeds_male[calorieNeeds_male['AGE'] >= 14]\n",
    "\n",
    "calorieNeeds_male = calorieNeeds_male.reset_index(drop= True)\n",
    "\n",
    "calorieNeeds_male.head()"
   ]
  },
  {
   "cell_type": "code",
   "execution_count": 7,
   "metadata": {},
   "outputs": [],
   "source": [
    "#Male nutritional parameters per meal. Source: FDA \n",
    "\n",
    "nutritionParameters_dict = {'Protein (Cal)' : ((12 + 3) / 2)/100, # % kCal\n",
    "                           'Carbohydrate (Cal)' : ((10 + 25) / 2) / 100, # % kCcal\n",
    "                           'Fiber (gr)' : (8 + 30) / 2, \n",
    "                           'Total Sugar (Cal)': .04, # % kCal\n",
    "                           'Total lipid (Cal)': ((12 + 8) / 2)/ 100, # % kCal\n",
    "                           'Total Trans Fat (Cal)': .01, # % kCal\n",
    "                           'Total Saturated Fat (Cal)': 0.03, # % kCal\n",
    "                           'Cholesterol (mg)' : 100, \n",
    "                           'Calcium (mg)': (835 + 330) / 2,\n",
    "                           'Iron (mg)': (5 + 15) / 2,\n",
    "                           'Sodium, (mg)': (770 + 150)/2,\n",
    "                           'Vitamin A (mcg RAE)': (1000 + 230) / 2,\n",
    "                            'Vitamin C (mg)' : 21,\n",
    "                            'Calories per Meal' : 1/3}\n",
    "    \n"
   ]
  },
  {
   "cell_type": "code",
   "execution_count": 8,
   "metadata": {},
   "outputs": [
    {
     "output_type": "execute_result",
     "data": {
      "text/plain": "   Sedentary  Protein (Cal)  Carbohydrate (Cal)  Fiber (gr)  \\\n0     2000.0          150.0               350.0        19.0   \n1     2200.0          165.0               385.0        19.0   \n2     2400.0          180.0               420.0        19.0   \n3     2600.0          195.0               455.0        19.0   \n\n   Total Sugar (Cal)  Total lipid (Cal)  Total Trans Fat (Cal)  \\\n0               80.0              200.0                   20.0   \n1               88.0              220.0                   22.0   \n2               96.0              240.0                   24.0   \n3              104.0              260.0                   26.0   \n\n   Total Saturated Fat (Cal)  Cholesterol (mg)  Calcium (mg)  Iron (mg)  \\\n0                       60.0             100.0         582.5       10.0   \n1                       66.0             100.0         582.5       10.0   \n2                       72.0             100.0         582.5       10.0   \n3                       78.0             100.0         582.5       10.0   \n\n   Sodium, (mg)  Vitamin A (mcg RAE)  Vitamin C (mg)  Calories per Meal  \n0         460.0                615.0            21.0             666.67  \n1         460.0                615.0            21.0             733.33  \n2         460.0                615.0            21.0             800.00  \n3         460.0                615.0            21.0             866.67  ",
      "text/html": "<div>\n<style scoped>\n    .dataframe tbody tr th:only-of-type {\n        vertical-align: middle;\n    }\n\n    .dataframe tbody tr th {\n        vertical-align: top;\n    }\n\n    .dataframe thead th {\n        text-align: right;\n    }\n</style>\n<table border=\"1\" class=\"dataframe\">\n  <thead>\n    <tr style=\"text-align: right;\">\n      <th></th>\n      <th>Sedentary</th>\n      <th>Protein (Cal)</th>\n      <th>Carbohydrate (Cal)</th>\n      <th>Fiber (gr)</th>\n      <th>Total Sugar (Cal)</th>\n      <th>Total lipid (Cal)</th>\n      <th>Total Trans Fat (Cal)</th>\n      <th>Total Saturated Fat (Cal)</th>\n      <th>Cholesterol (mg)</th>\n      <th>Calcium (mg)</th>\n      <th>Iron (mg)</th>\n      <th>Sodium, (mg)</th>\n      <th>Vitamin A (mcg RAE)</th>\n      <th>Vitamin C (mg)</th>\n      <th>Calories per Meal</th>\n    </tr>\n  </thead>\n  <tbody>\n    <tr>\n      <th>0</th>\n      <td>2000.0</td>\n      <td>150.0</td>\n      <td>350.0</td>\n      <td>19.0</td>\n      <td>80.0</td>\n      <td>200.0</td>\n      <td>20.0</td>\n      <td>60.0</td>\n      <td>100.0</td>\n      <td>582.5</td>\n      <td>10.0</td>\n      <td>460.0</td>\n      <td>615.0</td>\n      <td>21.0</td>\n      <td>666.67</td>\n    </tr>\n    <tr>\n      <th>1</th>\n      <td>2200.0</td>\n      <td>165.0</td>\n      <td>385.0</td>\n      <td>19.0</td>\n      <td>88.0</td>\n      <td>220.0</td>\n      <td>22.0</td>\n      <td>66.0</td>\n      <td>100.0</td>\n      <td>582.5</td>\n      <td>10.0</td>\n      <td>460.0</td>\n      <td>615.0</td>\n      <td>21.0</td>\n      <td>733.33</td>\n    </tr>\n    <tr>\n      <th>2</th>\n      <td>2400.0</td>\n      <td>180.0</td>\n      <td>420.0</td>\n      <td>19.0</td>\n      <td>96.0</td>\n      <td>240.0</td>\n      <td>24.0</td>\n      <td>72.0</td>\n      <td>100.0</td>\n      <td>582.5</td>\n      <td>10.0</td>\n      <td>460.0</td>\n      <td>615.0</td>\n      <td>21.0</td>\n      <td>800.00</td>\n    </tr>\n    <tr>\n      <th>3</th>\n      <td>2600.0</td>\n      <td>195.0</td>\n      <td>455.0</td>\n      <td>19.0</td>\n      <td>104.0</td>\n      <td>260.0</td>\n      <td>26.0</td>\n      <td>78.0</td>\n      <td>100.0</td>\n      <td>582.5</td>\n      <td>10.0</td>\n      <td>460.0</td>\n      <td>615.0</td>\n      <td>21.0</td>\n      <td>866.67</td>\n    </tr>\n  </tbody>\n</table>\n</div>"
     },
     "metadata": {},
     "execution_count": 8
    }
   ],
   "source": [
    "#Code to combine FDA calorie intake and the recomended nutritonal parameters.\n",
    "\n",
    "#Empty list to store DataFrames.\n",
    "maleInfo = []\n",
    "\n",
    "#For loop to iterate through each lifestyle in the FDA calorie intake recomendation DataFrame\n",
    "for lifeStyle in ['Sedentary','Moderately active','Active']:\n",
    "    \n",
    "    #Temporary DataFrame to make calculations based on the age column and lifestyle.\n",
    "    lifeStyle_df = calorieNeeds_male[['AGE', lifeStyle]]\n",
    "    \n",
    "    #For loop to iterate through the temporary DataFrame.\n",
    "    for index,row in lifeStyle_df.iterrows():\n",
    "\n",
    "        #For loop to appy each of the FDA nutritional parameters to each of the rows in the temporary lifestyle calorie intake DataFrame.\n",
    "        for key in nutritionParameters_dict.keys():\n",
    "\n",
    "            #If the key is NOT in the columns of the DataFrame.\n",
    "            if key not in lifeStyle_df.columns:\n",
    "\n",
    "                #Creates an empty column using the keys of the FDA nutrion dictionary.\n",
    "                lifeStyle_df[key] = ''\n",
    "\n",
    "                #Some FDA parameters are % kCal. These parameters need to multiply dictionary value and calorie intake.\n",
    "                if (key == 'Protein (Cal)') |( key == 'Carbohydrate (Cal)') | (key == 'Total Sugar (Cal)') | (key == 'Total lipid (Cal)')| (key == 'Total Trans Fat (Cal)')|( key == 'Total Saturated Fat (Cal)') | (key == 'Calories per Meal'):\n",
    "\n",
    "                    lifeStyle_df.loc[index, key] = round(row[lifeStyle] * nutritionParameters_dict[key],2)\n",
    "                \n",
    "                #The rest of the FDA parameters are recomandations based on grams.\n",
    "                else:\n",
    "\n",
    "                    lifeStyle_df.loc[index, key] = round(nutritionParameters_dict[key],2)\n",
    "\n",
    "            #If the key is in the columns of the DataFrame.\n",
    "            else:\n",
    "\n",
    "                #Same operation as before.\n",
    "                if (key == 'Protein (Cal)') |( key == 'Carbohydrate (Cal)') | (key == 'Total Sugar (Cal)') | (key == 'Total lipid (Cal)')| (key == 'Total Trans Fat (Cal)')|( key == 'Total Saturated Fat (Cal)') | (key == 'Calories per Meal'):\n",
    "\n",
    "                    lifeStyle_df.loc[index, key] = round(row[lifeStyle] * nutritionParameters_dict[key],2)\n",
    "\n",
    "                else:\n",
    "\n",
    "                    lifeStyle_df.loc[index, key] = round(nutritionParameters_dict[key],2)\n",
    "\n",
    "    #Creates a list with the title of the columns in the temporary DataFrame.\n",
    "    columns = lifeStyle_df.columns.to_list()\n",
    "\n",
    "    #Converts all the columns to numeric.\n",
    "    lifeStyle_df[columns] = lifeStyle_df[columns].apply(pd.to_numeric, axis=1) \n",
    "\n",
    "    #Groups by carolie intake, averages all the values, resets the index and drops the column AGE. \n",
    "    lifeStyle_df = lifeStyle_df.groupby(lifeStyle).mean().reset_index().drop(['AGE'], axis=1)\n",
    "\n",
    "    #Appends the temporary DataFrame to the list of DataFrames.                 \n",
    "    maleInfo.append(lifeStyle_df)\n",
    "                        \n",
    "maleInfo[0] #List of DataFrames for males and the intake limits for each meal. "
   ]
  },
  {
   "cell_type": "markdown",
   "metadata": {},
   "source": [
    "elif row['AGE'] > 19 & row['AGE'] <= 30 :\n",
    "\n",
    "            for key in maleNutrition19to30_dict.keys():\n",
    "\n",
    "                    if (key == 'Protein (Cal)') |( key == 'Carbohydrate (Cal)') | (key == 'Total lipid (Cal)')| (key == 'Total Trans Fat (Cal)')|( key == 'Total Saturated Fat (Cal)'):\n",
    "\n",
    "                        lifeStyle_df.loc[index, key] = round(row[lifeStyle] * maleNutrition19to30_dict[key],2)\n",
    "\n",
    "                    else:\n",
    "\n",
    "                        lifeStyle_df.loc[index, key] = round(maleNutrition19to30_dict[key],2)\n",
    "\n",
    "        elif row['AGE'] > 31 & row['AGE'] <= 50 :\n",
    "\n",
    "            for key in maleNutrition31to50_dict.keys():\n",
    "\n",
    "                    if (key == 'Protein (Cal)') |( key == 'Carbohydrate (Cal)') | (key == 'Total lipid (Cal)')| (key == 'Total Trans Fat (Cal)')|( key == 'Total Saturated Fat (Cal)'):\n",
    "\n",
    "                        lifeStyle_df.loc[index, key] = round(row[lifeStyle] * maleNutrition31to50_dict[key],2)\n",
    "\n",
    "                    else:\n",
    "\n",
    "                        lifeStyle_df.loc[index, key] = round(maleNutrition31to50_dict[key],2)\n",
    "\n",
    "        elif row['AGE'] > 31 & row['AGE'] <= 50 :\n",
    "\n",
    "            for key in maleNutrition51_dict.keys():\n",
    "\n",
    "                    if (key == 'Protein (Cal)') |( key == 'Carbohydrate (Cal)') | (key == 'Total lipid (Cal)')| (key == 'Total Trans Fat (Cal)')|( key == 'Total Saturated Fat (Cal)'):\n",
    "\n",
    "                        lifeStyle_df.loc[index, key] = round(row[lifeStyle] * maleNutrition51_dict[key],2)\n",
    "\n",
    "                    else:\n",
    "\n",
    "                        lifeStyle_df.loc[index, key] = round(maleNutrition51_dict[key],2)"
   ]
  },
  {
   "cell_type": "code",
   "execution_count": 9,
   "metadata": {},
   "outputs": [
    {
     "output_type": "execute_result",
     "data": {
      "text/plain": "   AGE  Sedentary  Moderately active  Active\n0   14       1800               2000    2400\n1   15       1800               2000    2400\n2   16       1800               2000    2400\n3   17       1800               2000    2400\n4   18       1800               2000    2400",
      "text/html": "<div>\n<style scoped>\n    .dataframe tbody tr th:only-of-type {\n        vertical-align: middle;\n    }\n\n    .dataframe tbody tr th {\n        vertical-align: top;\n    }\n\n    .dataframe thead th {\n        text-align: right;\n    }\n</style>\n<table border=\"1\" class=\"dataframe\">\n  <thead>\n    <tr style=\"text-align: right;\">\n      <th></th>\n      <th>AGE</th>\n      <th>Sedentary</th>\n      <th>Moderately active</th>\n      <th>Active</th>\n    </tr>\n  </thead>\n  <tbody>\n    <tr>\n      <th>0</th>\n      <td>14</td>\n      <td>1800</td>\n      <td>2000</td>\n      <td>2400</td>\n    </tr>\n    <tr>\n      <th>1</th>\n      <td>15</td>\n      <td>1800</td>\n      <td>2000</td>\n      <td>2400</td>\n    </tr>\n    <tr>\n      <th>2</th>\n      <td>16</td>\n      <td>1800</td>\n      <td>2000</td>\n      <td>2400</td>\n    </tr>\n    <tr>\n      <th>3</th>\n      <td>17</td>\n      <td>1800</td>\n      <td>2000</td>\n      <td>2400</td>\n    </tr>\n    <tr>\n      <th>4</th>\n      <td>18</td>\n      <td>1800</td>\n      <td>2000</td>\n      <td>2400</td>\n    </tr>\n  </tbody>\n</table>\n</div>"
     },
     "metadata": {},
     "execution_count": 9
    }
   ],
   "source": [
    "#Load kcal requirments from FDA\n",
    "\n",
    "calorieNeeds_female = pd.read_excel('../../FDA Tables XLSX/Appendix 2. Estimated Calorie Needs -2020 Dietary Guidelines _ health.gov_0002.xlsx', sheet_name = 'Females')\n",
    "\n",
    "calorieNeeds_female = calorieNeeds_female[calorieNeeds_female['AGE'] >= 14]\n",
    "\n",
    "calorieNeeds_female =  calorieNeeds_female.reset_index(drop= True)\n",
    "\n",
    "calorieNeeds_female.head()"
   ]
  },
  {
   "cell_type": "code",
   "execution_count": 10,
   "metadata": {},
   "outputs": [
    {
     "output_type": "execute_result",
     "data": {
      "text/plain": "   Sedentary  Protein (Cal)  Carbohydrate (Cal)  Fiber (gr)  \\\n0     1600.0          120.0               280.0        19.0   \n1     1800.0          135.0               315.0        19.0   \n2     2000.0          150.0               350.0        19.0   \n\n   Total Sugar (Cal)  Total lipid (Cal)  Total Trans Fat (Cal)  \\\n0               64.0              160.0                   16.0   \n1               72.0              180.0                   18.0   \n2               80.0              200.0                   20.0   \n\n   Total Saturated Fat (Cal)  Cholesterol (mg)  Calcium (mg)  Iron (mg)  \\\n0                       48.0             100.0         582.5       10.0   \n1                       54.0             100.0         582.5       10.0   \n2                       60.0             100.0         582.5       10.0   \n\n   Sodium, (mg)  Vitamin A (mcg RAE)  Vitamin C (mg)  Calories per Meal  \n0         460.0                615.0            21.0             533.33  \n1         460.0                615.0            21.0             600.00  \n2         460.0                615.0            21.0             666.67  ",
      "text/html": "<div>\n<style scoped>\n    .dataframe tbody tr th:only-of-type {\n        vertical-align: middle;\n    }\n\n    .dataframe tbody tr th {\n        vertical-align: top;\n    }\n\n    .dataframe thead th {\n        text-align: right;\n    }\n</style>\n<table border=\"1\" class=\"dataframe\">\n  <thead>\n    <tr style=\"text-align: right;\">\n      <th></th>\n      <th>Sedentary</th>\n      <th>Protein (Cal)</th>\n      <th>Carbohydrate (Cal)</th>\n      <th>Fiber (gr)</th>\n      <th>Total Sugar (Cal)</th>\n      <th>Total lipid (Cal)</th>\n      <th>Total Trans Fat (Cal)</th>\n      <th>Total Saturated Fat (Cal)</th>\n      <th>Cholesterol (mg)</th>\n      <th>Calcium (mg)</th>\n      <th>Iron (mg)</th>\n      <th>Sodium, (mg)</th>\n      <th>Vitamin A (mcg RAE)</th>\n      <th>Vitamin C (mg)</th>\n      <th>Calories per Meal</th>\n    </tr>\n  </thead>\n  <tbody>\n    <tr>\n      <th>0</th>\n      <td>1600.0</td>\n      <td>120.0</td>\n      <td>280.0</td>\n      <td>19.0</td>\n      <td>64.0</td>\n      <td>160.0</td>\n      <td>16.0</td>\n      <td>48.0</td>\n      <td>100.0</td>\n      <td>582.5</td>\n      <td>10.0</td>\n      <td>460.0</td>\n      <td>615.0</td>\n      <td>21.0</td>\n      <td>533.33</td>\n    </tr>\n    <tr>\n      <th>1</th>\n      <td>1800.0</td>\n      <td>135.0</td>\n      <td>315.0</td>\n      <td>19.0</td>\n      <td>72.0</td>\n      <td>180.0</td>\n      <td>18.0</td>\n      <td>54.0</td>\n      <td>100.0</td>\n      <td>582.5</td>\n      <td>10.0</td>\n      <td>460.0</td>\n      <td>615.0</td>\n      <td>21.0</td>\n      <td>600.00</td>\n    </tr>\n    <tr>\n      <th>2</th>\n      <td>2000.0</td>\n      <td>150.0</td>\n      <td>350.0</td>\n      <td>19.0</td>\n      <td>80.0</td>\n      <td>200.0</td>\n      <td>20.0</td>\n      <td>60.0</td>\n      <td>100.0</td>\n      <td>582.5</td>\n      <td>10.0</td>\n      <td>460.0</td>\n      <td>615.0</td>\n      <td>21.0</td>\n      <td>666.67</td>\n    </tr>\n  </tbody>\n</table>\n</div>"
     },
     "metadata": {},
     "execution_count": 10
    }
   ],
   "source": [
    "femaleInfo = []\n",
    "\n",
    "for lifeStyle in ['Sedentary','Moderately active','Active']:\n",
    "    \n",
    "    lifeStyle_df = calorieNeeds_female[['AGE', lifeStyle]]\n",
    "    \n",
    "    for index,row in lifeStyle_df.iterrows():\n",
    "\n",
    "        for key in nutritionParameters_dict.keys():\n",
    "\n",
    "            if key not in lifeStyle_df.columns:\n",
    "\n",
    "                lifeStyle_df[key] = ''\n",
    "\n",
    "                if (key == 'Protein (Cal)') |( key == 'Carbohydrate (Cal)') | (key == 'Total Sugar (Cal)') | (key == 'Total lipid (Cal)')| (key == 'Total Trans Fat (Cal)')|( key == 'Total Saturated Fat (Cal)') | (key == 'Calories per Meal'):\n",
    "\n",
    "                    lifeStyle_df.loc[index, key] = round(row[lifeStyle] * nutritionParameters_dict[key],2)\n",
    "\n",
    "                else:\n",
    "\n",
    "                    lifeStyle_df.loc[index, key] = round(nutritionParameters_dict[key],2)\n",
    "\n",
    "            else:\n",
    "\n",
    "                if (key == 'Protein (Cal)') |( key == 'Carbohydrate (Cal)') | (key == 'Total Sugar (Cal)') | (key == 'Total lipid (Cal)')| (key == 'Total Trans Fat (Cal)')|( key == 'Total Saturated Fat (Cal)') | (key == 'Calories per Meal'):\n",
    "\n",
    "                    lifeStyle_df.loc[index, key] = round(row[lifeStyle] * nutritionParameters_dict[key],2)\n",
    "\n",
    "                else:\n",
    "\n",
    "                    lifeStyle_df.loc[index, key] = round(nutritionParameters_dict[key],2)\n",
    "                    \n",
    "    columns = lifeStyle_df.columns.to_list()\n",
    "\n",
    "    lifeStyle_df[columns] = lifeStyle_df[columns].apply(pd.to_numeric, axis=1) \n",
    "\n",
    "    lifeStyle_df = lifeStyle_df.groupby(lifeStyle).mean().reset_index().drop(['AGE'], axis=1)\n",
    "       \n",
    "                        \n",
    "    femaleInfo.append(lifeStyle_df)\n",
    "                        \n",
    "femaleInfo[0] #List of DataFrames for males and the intake limits for each meal. "
   ]
  },
  {
   "cell_type": "code",
   "execution_count": 11,
   "metadata": {
    "tags": []
   },
   "outputs": [
    {
     "output_type": "stream",
     "name": "stdout",
     "text": "Stored 'maleInfo' (list)\nStored 'femaleInfo' (list)\nStored 'foodFiltered_df' (DataFrame)\n"
    }
   ],
   "source": [
    "#Stores the DataFrames in the system.\n",
    "\n",
    "%store maleInfo\n",
    "\n",
    "%store femaleInfo\n",
    "\n",
    "%store foodFiltered_df"
   ]
  },
  {
   "cell_type": "code",
   "execution_count": null,
   "metadata": {},
   "outputs": [],
   "source": []
  }
 ],
 "metadata": {
  "kernelspec": {
   "display_name": "Python 3",
   "language": "python",
   "name": "python3"
  },
  "language_info": {
   "codemirror_mode": {
    "name": "ipython",
    "version": 3
   },
   "file_extension": ".py",
   "mimetype": "text/x-python",
   "name": "python",
   "nbconvert_exporter": "python",
   "pygments_lexer": "ipython3",
   "version": "3.7.6-final"
  }
 },
 "nbformat": 4,
 "nbformat_minor": 4
}